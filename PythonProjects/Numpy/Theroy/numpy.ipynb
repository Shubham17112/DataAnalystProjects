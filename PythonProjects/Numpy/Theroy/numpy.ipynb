{
 "cells": [
  {
   "cell_type": "code",
   "execution_count": 1,
   "id": "a2e0f6ac",
   "metadata": {},
   "outputs": [
    {
     "name": "stdout",
     "output_type": "stream",
     "text": [
      "[1 2 3 4 5]\n",
      "<class 'numpy.ndarray'>\n"
     ]
    }
   ],
   "source": [
    "# numpy used to work with arrays \n",
    "#https://youtu.be/CESPgl01b3c?feature=shared\n",
    "import numpy as np\n",
    "\n",
    "arr = np.array([1,2,3,4,5])\n",
    "\n",
    "print(arr)\n",
    "print(type(arr))\n"
   ]
  },
  {
   "cell_type": "code",
   "execution_count": 6,
   "id": "d13ab8c3",
   "metadata": {},
   "outputs": [
    {
     "name": "stdout",
     "output_type": "stream",
     "text": [
      "[1 2 3 4 5]\n",
      "<class 'numpy.ndarray'>\n"
     ]
    }
   ],
   "source": [
    "import numpy as np\n",
    "\n",
    "arr = np.array((1,2,3,4,5))\n",
    "print(arr)\n",
    "print(type(arr))"
   ]
  },
  {
   "cell_type": "code",
   "execution_count": null,
   "id": "719b906f",
   "metadata": {},
   "outputs": [
    {
     "name": "stdout",
     "output_type": "stream",
     "text": [
      "[[1 2 3]\n",
      " [4 5 6]]\n"
     ]
    }
   ],
   "source": [
    "# 2D array\n",
    "\n",
    "twoDArray = [[1,2,3],[4,5,6]]\n",
    "import numpy as np\n",
    "\n",
    "arr = np.array(twoDArray)\n",
    "print(arr)"
   ]
  },
  {
   "cell_type": "code",
   "execution_count": 17,
   "id": "081822e9",
   "metadata": {},
   "outputs": [
    {
     "name": "stdout",
     "output_type": "stream",
     "text": [
      "[[[1 2 3]\n",
      "  [4 5 6]]]\n",
      "dimension of the matrix: 3\n"
     ]
    }
   ],
   "source": [
    "# 3D array\n",
    "# here depth is just 1\n",
    "threeDArray = [[[1,2,3],[4,5,6]]]\n",
    "import numpy as np\n",
    "\n",
    "arr = np.array(threeDArray)\n",
    "print(arr)\n",
    "print(\"dimension of the matrix:\",arr.ndim)"
   ]
  },
  {
   "cell_type": "code",
   "execution_count": null,
   "id": "1e6dac0d",
   "metadata": {},
   "outputs": [
    {
     "name": "stdout",
     "output_type": "stream",
     "text": [
      "[[[[[1 2 3]]]]]\n",
      "dimension of the matrix: 5\n"
     ]
    }
   ],
   "source": [
    "# defining dimension \n",
    "\n",
    "import numpy as np\n",
    "list_ = [1,2,3]\n",
    "\n",
    "arr = np.array(list_,ndmin=5)\n",
    "print(arr)\n",
    "print(\"dimension of the matrix:\",arr.ndim)"
   ]
  },
  {
   "cell_type": "markdown",
   "id": "4eae5725",
   "metadata": {},
   "source": [
    "NumPy Array Indexing\n",
    "\n"
   ]
  },
  {
   "cell_type": "code",
   "execution_count": 31,
   "id": "322f841a",
   "metadata": {},
   "outputs": [
    {
     "name": "stdout",
     "output_type": "stream",
     "text": [
      "3\n",
      "accessing z [[1 2 3]\n",
      " [4 5 6]]\n",
      "accessing y [1 2 3]\n",
      "accessing y [1 2 3]\n",
      "accessing x 1\n"
     ]
    }
   ],
   "source": [
    "\n",
    "# arr[z][y][x]\n",
    "import numpy as np\n",
    "threeDArray = [[[1, 2, 3], [4, 5, 6]], [[7, 8, 9], [10, 11, 12]]]\n",
    "\n",
    "arr = np.array(threeDArray)\n",
    "\n",
    "print(arr.ndim)\n",
    "print(\"accessing z\",arr[0])\n",
    "print(\"accessing y\",arr[0][0])  \n",
    "print(\"accessing y\",arr[0,0])   \n",
    "print(\"accessing x\",arr[0,0,0])  "
   ]
  },
  {
   "cell_type": "markdown",
   "id": "53e59f21",
   "metadata": {},
   "source": [
    "Slicing "
   ]
  },
  {
   "cell_type": "code",
   "execution_count": 42,
   "id": "24f58f19",
   "metadata": {},
   "outputs": [
    {
     "name": "stdout",
     "output_type": "stream",
     "text": [
      "[2 3 4]\n",
      "[1 2]\n"
     ]
    }
   ],
   "source": [
    "# 1D slicing , 2D slicing , 3D Slcing \n",
    "import numpy as np\n",
    "\n",
    "arr = np.array([1, 2, 3, 4, 5, 6])\n",
    "# 1D slicing\n",
    "print(arr[1:4])  # Output: [2 3 4]\n",
    "\n",
    "# 2D slicing \n",
    "arr = np.array([[1, 2, 3],[ 4, 5, 6]])\n",
    "print(arr[0][0:2])\n"
   ]
  },
  {
   "cell_type": "markdown",
   "id": "c3bc359f",
   "metadata": {},
   "source": [
    "NumPy Data Types"
   ]
  },
  {
   "cell_type": "code",
   "execution_count": 48,
   "id": "982e1825",
   "metadata": {},
   "outputs": [
    {
     "name": "stdout",
     "output_type": "stream",
     "text": [
      "13.2\n",
      "<U32\n"
     ]
    }
   ],
   "source": [
    "# O- objects ( when u don't know which datatype your array consit)   \n",
    "import numpy as np \n",
    "arr = np.array([\"apple\",1,3.2])\n",
    "# here numpy covert all data type into string there form index 1 and 2 contactinate\n",
    "print(arr[1]+arr[2])\n",
    "print(arr.dtype) # output: object\n",
    " "
   ]
  },
  {
   "cell_type": "code",
   "execution_count": null,
   "id": "f559f7f5",
   "metadata": {},
   "outputs": [
    {
     "name": "stdout",
     "output_type": "stream",
     "text": [
      "4.2\n",
      "float64\n"
     ]
    }
   ],
   "source": [
    "# O- objects ( when u don't know which datatype your array consit)   \n",
    "import numpy as np \n",
    "arr = np.array([2,1,3.2])\n",
    "# here numpy covert all data type into float datatype\n",
    "print(arr[1]+arr[2])\n",
    "print(arr.dtype) # output: object\n",
    " "
   ]
  },
  {
   "cell_type": "code",
   "execution_count": 3,
   "id": "53c25f79",
   "metadata": {},
   "outputs": [
    {
     "name": "stdout",
     "output_type": "stream",
     "text": [
      "4\n",
      "int32\n"
     ]
    }
   ],
   "source": [
    "# Self created data type\n",
    "\n",
    "# O- objects ( when u don't know which datatype your array consit )   \n",
    "import numpy as np \n",
    "arr = np.array([2,1,3.2],dtype=\"i\")  # here i have used int data type\n",
    "# here numpy covert all data type into float datatype\n",
    "print(arr[1]+arr[2])\n",
    "print(arr.dtype) # output: object\n",
    " "
   ]
  },
  {
   "cell_type": "markdown",
   "id": "e9a42782",
   "metadata": {},
   "source": [
    "NumPy Array Copy vs View"
   ]
  },
  {
   "cell_type": "code",
   "execution_count": null,
   "id": "ca0be04a",
   "metadata": {},
   "outputs": [
    {
     "name": "stdout",
     "output_type": "stream",
     "text": [
      "2.0\n",
      "[1 2 3]\n"
     ]
    }
   ],
   "source": [
    "# View\n",
    "\n",
    "import numpy as np\n",
    "\n",
    "arr = np.array([1,2,3])\n",
    "arr1 = arr.mean()\n",
    "print(arr1)  # Output: [4 2 3]\n",
    "print(arr)  # Output: [4 2 3]"
   ]
  },
  {
   "cell_type": "code",
   "execution_count": null,
   "id": "56d34777",
   "metadata": {},
   "outputs": [
    {
     "name": "stdout",
     "output_type": "stream",
     "text": [
      "['M', 1, 2, 2.3]\n"
     ]
    }
   ],
   "source": [
    "# here w was checkign that list not creating copy it's chagne teh exact list \n",
    "list_ = [\"shubham\",1,2,2.3]\n",
    "list_[0] = \"M\"\n",
    "print(list_)"
   ]
  },
  {
   "cell_type": "code",
   "execution_count": 68,
   "id": "e8537476",
   "metadata": {},
   "outputs": [],
   "source": [
    "list1 = list_"
   ]
  },
  {
   "cell_type": "code",
   "execution_count": 72,
   "id": "8546a7d9",
   "metadata": {},
   "outputs": [
    {
     "name": "stdout",
     "output_type": "stream",
     "text": [
      "['pawan', 1, 2, 2.3]\n",
      "['pawan', 1, 2, 2.3]\n"
     ]
    }
   ],
   "source": [
    "list1[0]= \"pawan\"\n",
    "print(list1)\n",
    "print(list_)"
   ]
  },
  {
   "cell_type": "code",
   "execution_count": null,
   "id": "a1e34efc",
   "metadata": {},
   "outputs": [
    {
     "name": "stdout",
     "output_type": "stream",
     "text": [
      "int64\n",
      "[6465    2    3    4]\n"
     ]
    }
   ],
   "source": [
    "# view \n",
    "import numpy as np \n",
    "arr = np.array([1,2,3,4])\n",
    "x = arr\n",
    "x[0]=6465\n",
    "print(x.dtype)\n",
    "print(x)"
   ]
  },
  {
   "cell_type": "code",
   "execution_count": null,
   "id": "ced40503",
   "metadata": {},
   "outputs": [],
   "source": [
    "# assigment opeartor vs view \n",
    "# if u use = assimgent opetor than u create same object but in view u createing a new object with same data 4\n"
   ]
  },
  {
   "cell_type": "code",
   "execution_count": null,
   "id": "22345ad7",
   "metadata": {},
   "outputs": [
    {
     "name": "stdout",
     "output_type": "stream",
     "text": [
      "None\n",
      "[1 2 3 4]\n"
     ]
    }
   ],
   "source": [
    "# view \n",
    "import numpy as np \n",
    "arr = np.array([1,2,3,4])\n",
    "x = arr.copy()\n",
    "y = arr.view()    # always remember base is here paramerte of arr not any methode( function )\n",
    "print(x.base)\n",
    "print(y.base)"
   ]
  },
  {
   "cell_type": "markdown",
   "id": "d04ecb76",
   "metadata": {},
   "source": [
    "Numpy Shape\n"
   ]
  },
  {
   "cell_type": "code",
   "execution_count": null,
   "id": "2ed760a5",
   "metadata": {},
   "outputs": [
    {
     "name": "stdout",
     "output_type": "stream",
     "text": [
      "(1, 1, 4)\n"
     ]
    }
   ],
   "source": [
    "# x repreent column ,y represnt row and z represent depth\n",
    "# (z,y,x) in this way u will see matrix\n",
    "import numpy as np \n",
    "arr = np.array([[[1,2,3,4]]])\n",
    "print(arr.shape)"
   ]
  },
  {
   "cell_type": "markdown",
   "id": "61b1aef2",
   "metadata": {},
   "source": [
    "Reshaping arrays\n"
   ]
  },
  {
   "cell_type": "code",
   "execution_count": 20,
   "id": "2ca24aa3",
   "metadata": {},
   "outputs": [
    {
     "name": "stdout",
     "output_type": "stream",
     "text": [
      "arr shape (12,)\n",
      "arr dime 1\n",
      "[[ 1  2  3]\n",
      " [ 4  5  6]\n",
      " [ 7  8  9]\n",
      " [10 11 12]]\n",
      "arr dime 2\n",
      "arr shape (4, 3)\n"
     ]
    }
   ],
   "source": [
    "import numpy as np\n",
    "\n",
    "arr = np.array([1, 2, 3, 4, 5, 6, 7, 8, 9, 10, 11, 12])\n",
    "\n",
    "print(\"arr shape\",arr.shape)\n",
    "print(\"arr dime\",arr.ndim)\n",
    "\n",
    "newarr = arr.reshape(4,3)\n",
    "print(newarr)\n",
    "print(\"arr dime\",newarr.ndim)\n",
    "\n",
    "print(\"arr shape\",newarr.shape)\n"
   ]
  },
  {
   "cell_type": "code",
   "execution_count": null,
   "id": "4b9618e6",
   "metadata": {},
   "outputs": [
    {
     "ename": "ValueError",
     "evalue": "cannot reshape array of size 8 into shape (3,3)",
     "output_type": "error",
     "traceback": [
      "\u001b[1;31m---------------------------------------------------------------------------\u001b[0m",
      "\u001b[1;31mValueError\u001b[0m                                Traceback (most recent call last)",
      "Cell \u001b[1;32mIn[21], line 9\u001b[0m\n\u001b[0;32m      5\u001b[0m arr \u001b[38;5;241m=\u001b[39m np\u001b[38;5;241m.\u001b[39marray([\u001b[38;5;241m1\u001b[39m, \u001b[38;5;241m2\u001b[39m, \u001b[38;5;241m3\u001b[39m, \u001b[38;5;241m4\u001b[39m, \u001b[38;5;241m5\u001b[39m, \u001b[38;5;241m6\u001b[39m, \u001b[38;5;241m7\u001b[39m, \u001b[38;5;241m8\u001b[39m])\n\u001b[0;32m      7\u001b[0m \u001b[38;5;66;03m# let's shape this as u can see there is 8 element \u001b[39;00m\n\u001b[0;32m      8\u001b[0m \u001b[38;5;66;03m# reshpae into 3 x 3 matrix 3 rows and 3 column\u001b[39;00m\n\u001b[1;32m----> 9\u001b[0m arr \u001b[38;5;241m=\u001b[39m \u001b[43marr\u001b[49m\u001b[38;5;241;43m.\u001b[39;49m\u001b[43mreshape\u001b[49m\u001b[43m(\u001b[49m\u001b[38;5;241;43m3\u001b[39;49m\u001b[43m,\u001b[49m\u001b[43m \u001b[49m\u001b[38;5;241;43m3\u001b[39;49m\u001b[43m)\u001b[49m\n",
      "\u001b[1;31mValueError\u001b[0m: cannot reshape array of size 8 into shape (3,3)"
     ]
    }
   ],
   "source": [
    "# Can We Reshape Into any Shape?\n",
    "# yes as long as it's in equal in size in all\n",
    "import numpy as np\n",
    "\n",
    "arr = np.array([1, 2, 3, 4, 5, 6, 7, 8])\n",
    "\n",
    "# let's shape this as u can see there is 8 element \n",
    "# reshpae into 3 x 3 matrix 3 rows and 3 column\n",
    "arr = arr.reshape(3, 3)\n",
    "# because we need 9 element to reshape into 3 x 3 matrix\n"
   ]
  },
  {
   "cell_type": "code",
   "execution_count": 25,
   "id": "9e2c60bf",
   "metadata": {},
   "outputs": [
    {
     "name": "stdout",
     "output_type": "stream",
     "text": [
      "[1 2 3 4 5 6 7 8 9]\n"
     ]
    }
   ],
   "source": [
    "# when we reshape the arry then that arry is copy or view \n",
    "import numpy as np\n",
    "\n",
    "arr = np.array([1, 2, 3, 4, 5, 6, 7, 8,9])\n",
    "\n",
    "newarr= arr.reshape(3,3)\n",
    "\n",
    "print(newarr.base)  \n",
    "\n"
   ]
  },
  {
   "cell_type": "code",
   "execution_count": null,
   "id": "c4bf6690",
   "metadata": {},
   "outputs": [
    {
     "data": {
      "text/plain": [
       "array([[1, 2, 3, 4],\n",
       "       [5, 6, 7, 8]])"
      ]
     },
     "execution_count": 31,
     "metadata": {},
     "output_type": "execute_result"
    }
   ],
   "source": [
    "# Unknown Dimension\n",
    "\n",
    "import numpy as np\n",
    "\n",
    "arr = np.array([1, 2, 3, 4, 5, 6, 7, 8])\n",
    "\n",
    "arr.reshape(2,-1) # here two row 4 coloumn\n",
    "\n",
    "\n"
   ]
  },
  {
   "cell_type": "code",
   "execution_count": null,
   "id": "3648a9bd",
   "metadata": {},
   "outputs": [
    {
     "data": {
      "text/plain": [
       "array([[[1, 2, 3, 4],\n",
       "        [5, 6, 7, 8]]])"
      ]
     },
     "execution_count": 32,
     "metadata": {},
     "output_type": "execute_result"
    }
   ],
   "source": [
    "\n",
    "import numpy as np\n",
    "\n",
    "arr = np.array([1, 2, 3, 4, 5, 6, 7, 8])\n",
    "\n",
    "arr.reshape(1,2,-1) # here two row 4 coloumn 1 depth\n",
    "\n"
   ]
  },
  {
   "cell_type": "code",
   "execution_count": null,
   "id": "48122bf9",
   "metadata": {},
   "outputs": [
    {
     "name": "stdout",
     "output_type": "stream",
     "text": [
      "[1 2 3 4 5 6]\n"
     ]
    }
   ],
   "source": [
    "# Flattening the arrays\n",
    "# coverting any dim into 1 D\n",
    "\n",
    "import numpy as np\n",
    "\n",
    "arr = np.array([[1, 2, 3], [4, 5, 6]])\n",
    "\n",
    "newarr = arr.reshape(-1)\n",
    "\n",
    "print(newarr)"
   ]
  },
  {
   "cell_type": "code",
   "execution_count": 35,
   "id": "330ed100",
   "metadata": {},
   "outputs": [
    {
     "name": "stdout",
     "output_type": "stream",
     "text": [
      "1\n",
      "2\n",
      "3\n",
      "4\n",
      "5\n",
      "6\n"
     ]
    }
   ],
   "source": [
    "# Iterating Arrays Using nditer()\n",
    "import numpy as np\n",
    "\n",
    "arr = np.array([[1, 2, 3], [4, 5, 6]])\n",
    "\n",
    "for i in np.nditer(arr):\n",
    "    print(i)"
   ]
  },
  {
   "cell_type": "code",
   "execution_count": null,
   "id": "1cb67408",
   "metadata": {},
   "outputs": [],
   "source": [
    "    # Iterating Array With Different Data Types\n",
    "# what is buffer ?\n",
    "# tem memrory location is called buffer for holding temp data\n",
    "import numpy as np\n",
    "\n",
    "arr = np.array([[1, 2, 3], [4, 5, 6]])\n",
    "\n",
    "# now u want diffeent datatype \n"
   ]
  },
  {
   "cell_type": "code",
   "execution_count": 40,
   "id": "d6403114",
   "metadata": {},
   "outputs": [
    {
     "name": "stdout",
     "output_type": "stream",
     "text": [
      "np.bytes_(b'1')\n",
      "|S21\n",
      "np.bytes_(b'2')\n",
      "|S21\n",
      "np.bytes_(b'3')\n",
      "|S21\n",
      "int64\n"
     ]
    }
   ],
   "source": [
    "import numpy as np\n",
    "\n",
    "arr = np.array([1, 2, 3])\n",
    "\n",
    "for x in np.nditer(arr, flags=['buffered'], op_dtypes=['S']):\n",
    "  print(x)\n",
    "  print(x.dtype)\n",
    "  \n",
    "print(arr[0].dtype)"
   ]
  },
  {
   "cell_type": "code",
   "execution_count": null,
   "id": "1afd5823",
   "metadata": {},
   "outputs": [],
   "source": []
  }
 ],
 "metadata": {
  "kernelspec": {
   "display_name": "Python 3",
   "language": "python",
   "name": "python3"
  },
  "language_info": {
   "codemirror_mode": {
    "name": "ipython",
    "version": 3
   },
   "file_extension": ".py",
   "mimetype": "text/x-python",
   "name": "python",
   "nbconvert_exporter": "python",
   "pygments_lexer": "ipython3",
   "version": "3.10.6"
  }
 },
 "nbformat": 4,
 "nbformat_minor": 5
}
