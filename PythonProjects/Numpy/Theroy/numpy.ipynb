{
 "cells": [
  {
   "cell_type": "code",
   "execution_count": null,
   "id": "a2e0f6ac",
   "metadata": {},
   "outputs": [
    {
     "name": "stdout",
     "output_type": "stream",
     "text": [
      "[1 2 3 4 5]\n",
      "<class 'numpy.ndarray'>\n"
     ]
    }
   ],
   "source": [
    "# numpy used to work with arrays \n",
    "#https://youtu.be/CESPgl01b3c?feature=shared\n",
    "import numpy as np\n",
    "\n",
    "arr = np.array([1,2,3,4,5])\n",
    "\n",
    "print(arr)\n",
    "print(type(arr))"
   ]
  },
  {
   "cell_type": "code",
   "execution_count": 6,
   "id": "d13ab8c3",
   "metadata": {},
   "outputs": [
    {
     "name": "stdout",
     "output_type": "stream",
     "text": [
      "[1 2 3 4 5]\n",
      "<class 'numpy.ndarray'>\n"
     ]
    }
   ],
   "source": [
    "import numpy as np\n",
    "\n",
    "arr = np.array((1,2,3,4,5))\n",
    "print(arr)\n",
    "print(type(arr))"
   ]
  },
  {
   "cell_type": "code",
   "execution_count": null,
   "id": "719b906f",
   "metadata": {},
   "outputs": [
    {
     "name": "stdout",
     "output_type": "stream",
     "text": [
      "[[1 2 3]\n",
      " [4 5 6]]\n"
     ]
    }
   ],
   "source": [
    "# 2D array\n",
    "\n",
    "twoDArray = [[1,2,3],[4,5,6]]\n",
    "import numpy as np\n",
    "\n",
    "arr = np.array(twoDArray)\n",
    "print(arr)"
   ]
  },
  {
   "cell_type": "code",
   "execution_count": 17,
   "id": "081822e9",
   "metadata": {},
   "outputs": [
    {
     "name": "stdout",
     "output_type": "stream",
     "text": [
      "[[[1 2 3]\n",
      "  [4 5 6]]]\n",
      "dimension of the matrix: 3\n"
     ]
    }
   ],
   "source": [
    "# 3D array\n",
    "# here depth is just 1\n",
    "threeDArray = [[[1,2,3],[4,5,6]]]\n",
    "import numpy as np\n",
    "\n",
    "arr = np.array(threeDArray)\n",
    "print(arr)\n",
    "print(\"dimension of the matrix:\",arr.ndim)"
   ]
  },
  {
   "cell_type": "code",
   "execution_count": null,
   "id": "1e6dac0d",
   "metadata": {},
   "outputs": [
    {
     "name": "stdout",
     "output_type": "stream",
     "text": [
      "[[[[[1 2 3]]]]]\n",
      "dimension of the matrix: 5\n"
     ]
    }
   ],
   "source": [
    "# defining dimension \n",
    "\n",
    "import numpy as np\n",
    "list_ = [1,2,3]\n",
    "\n",
    "arr = np.array(list_,ndmin=5)\n",
    "print(arr)\n",
    "print(\"dimension of the matrix:\",arr.ndim)"
   ]
  },
  {
   "cell_type": "markdown",
   "id": "4eae5725",
   "metadata": {},
   "source": [
    "NumPy Array Indexing\n",
    "\n"
   ]
  },
  {
   "cell_type": "code",
   "execution_count": null,
   "id": "322f841a",
   "metadata": {},
   "outputs": [
    {
     "name": "stdout",
     "output_type": "stream",
     "text": [
      "3\n",
      "[[1 2 3]\n",
      " [4 5 6]]\n"
     ]
    }
   ],
   "source": [
    "\n",
    "# arr[z][y][x]\n",
    "import numpy as np\n",
    "threeDArray = [[[1, 2, 3], [4, 5, 6]], [[7, 8, 9], [10, 11, 12]]]\n",
    "\n",
    "arr = np.array(threeDArray)\n",
    "\n",
    "print(arr.ndim)\n",
    "print(arr[0])  "
   ]
  },
  {
   "cell_type": "code",
   "execution_count": null,
   "id": "24f58f19",
   "metadata": {},
   "outputs": [],
   "source": []
  }
 ],
 "metadata": {
  "kernelspec": {
   "display_name": "Python 3",
   "language": "python",
   "name": "python3"
  },
  "language_info": {
   "codemirror_mode": {
    "name": "ipython",
    "version": 3
   },
   "file_extension": ".py",
   "mimetype": "text/x-python",
   "name": "python",
   "nbconvert_exporter": "python",
   "pygments_lexer": "ipython3",
   "version": "3.10.6"
  }
 },
 "nbformat": 4,
 "nbformat_minor": 5
}
