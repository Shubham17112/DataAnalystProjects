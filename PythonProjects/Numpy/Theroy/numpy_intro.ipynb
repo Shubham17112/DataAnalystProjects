{
 "cells": [
  {
   "cell_type": "code",
   "execution_count": 1,
   "id": "a2e0f6ac",
   "metadata": {},
   "outputs": [
    {
     "name": "stdout",
     "output_type": "stream",
     "text": [
      "[1 2 3 4 5]\n",
      "<class 'numpy.ndarray'>\n"
     ]
    }
   ],
   "source": [
    "# numpy used to work with arrays \n",
    "#https://youtu.be/CESPgl01b3c?feature=shared\n",
    "import numpy as np\n",
    "\n",
    "arr = np.array([1,2,3,4,5])\n",
    "\n",
    "print(arr)\n",
    "print(type(arr))\n"
   ]
  },
  {
   "cell_type": "code",
   "execution_count": 6,
   "id": "d13ab8c3",
   "metadata": {},
   "outputs": [
    {
     "name": "stdout",
     "output_type": "stream",
     "text": [
      "[1 2 3 4 5]\n",
      "<class 'numpy.ndarray'>\n"
     ]
    }
   ],
   "source": [
    "import numpy as np\n",
    "\n",
    "arr = np.array((1,2,3,4,5))\n",
    "print(arr)\n",
    "print(type(arr))"
   ]
  },
  {
   "cell_type": "code",
   "execution_count": null,
   "id": "719b906f",
   "metadata": {},
   "outputs": [
    {
     "name": "stdout",
     "output_type": "stream",
     "text": [
      "[[1 2 3]\n",
      " [4 5 6]]\n"
     ]
    }
   ],
   "source": [
    "# 2D array\n",
    "\n",
    "twoDArray = [[1,2,3],[4,5,6]]\n",
    "import numpy as np\n",
    "\n",
    "arr = np.array(twoDArray)\n",
    "print(arr)"
   ]
  },
  {
   "cell_type": "code",
   "execution_count": 17,
   "id": "081822e9",
   "metadata": {},
   "outputs": [
    {
     "name": "stdout",
     "output_type": "stream",
     "text": [
      "[[[1 2 3]\n",
      "  [4 5 6]]]\n",
      "dimension of the matrix: 3\n"
     ]
    }
   ],
   "source": [
    "# 3D array\n",
    "# here depth is just 1\n",
    "threeDArray = [[[1,2,3],[4,5,6]]]\n",
    "import numpy as np\n",
    "\n",
    "arr = np.array(threeDArray)\n",
    "print(arr)\n",
    "print(\"dimension of the matrix:\",arr.ndim)"
   ]
  },
  {
   "cell_type": "code",
   "execution_count": null,
   "id": "1e6dac0d",
   "metadata": {},
   "outputs": [
    {
     "name": "stdout",
     "output_type": "stream",
     "text": [
      "[[[[[1 2 3]]]]]\n",
      "dimension of the matrix: 5\n"
     ]
    }
   ],
   "source": [
    "# defining dimension \n",
    "\n",
    "import numpy as np\n",
    "list_ = [1,2,3]\n",
    "\n",
    "arr = np.array(list_,ndmin=5)\n",
    "print(arr)\n",
    "print(\"dimension of the matrix:\",arr.ndim)"
   ]
  },
  {
   "cell_type": "markdown",
   "id": "4eae5725",
   "metadata": {},
   "source": [
    "NumPy Array Indexing\n",
    "\n"
   ]
  },
  {
   "cell_type": "code",
   "execution_count": 31,
   "id": "322f841a",
   "metadata": {},
   "outputs": [
    {
     "name": "stdout",
     "output_type": "stream",
     "text": [
      "3\n",
      "accessing z [[1 2 3]\n",
      " [4 5 6]]\n",
      "accessing y [1 2 3]\n",
      "accessing y [1 2 3]\n",
      "accessing x 1\n"
     ]
    }
   ],
   "source": [
    "\n",
    "# arr[z][y][x]\n",
    "import numpy as np\n",
    "threeDArray = [[[1, 2, 3], [4, 5, 6]], [[7, 8, 9], [10, 11, 12]]]\n",
    "\n",
    "arr = np.array(threeDArray)\n",
    "\n",
    "print(arr.ndim)\n",
    "print(\"accessing z\",arr[0])\n",
    "print(\"accessing y\",arr[0][0])  \n",
    "print(\"accessing y\",arr[0,0])   \n",
    "print(\"accessing x\",arr[0,0,0])  "
   ]
  },
  {
   "cell_type": "markdown",
   "id": "53e59f21",
   "metadata": {},
   "source": [
    "Slicing "
   ]
  },
  {
   "cell_type": "code",
   "execution_count": 42,
   "id": "24f58f19",
   "metadata": {},
   "outputs": [
    {
     "name": "stdout",
     "output_type": "stream",
     "text": [
      "[2 3 4]\n",
      "[1 2]\n"
     ]
    }
   ],
   "source": [
    "# 1D slicing , 2D slicing , 3D Slcing \n",
    "import numpy as np\n",
    "\n",
    "arr = np.array([1, 2, 3, 4, 5, 6])\n",
    "# 1D slicing\n",
    "print(arr[1:4])  # Output: [2 3 4]\n",
    "\n",
    "# 2D slicing \n",
    "arr = np.array([[1, 2, 3],[ 4, 5, 6]])\n",
    "print(arr[0][0:2])\n"
   ]
  },
  {
   "cell_type": "markdown",
   "id": "c3bc359f",
   "metadata": {},
   "source": [
    "NumPy Data Types"
   ]
  },
  {
   "cell_type": "code",
   "execution_count": 48,
   "id": "982e1825",
   "metadata": {},
   "outputs": [
    {
     "name": "stdout",
     "output_type": "stream",
     "text": [
      "13.2\n",
      "<U32\n"
     ]
    }
   ],
   "source": [
    "# O- objects ( when u don't know which datatype your array consit)   \n",
    "import numpy as np \n",
    "arr = np.array([\"apple\",1,3.2])\n",
    "# here numpy covert all data type into string there form index 1 and 2 contactinate\n",
    "print(arr[1]+arr[2])\n",
    "print(arr.dtype) # output: object\n",
    " "
   ]
  },
  {
   "cell_type": "code",
   "execution_count": null,
   "id": "f559f7f5",
   "metadata": {},
   "outputs": [
    {
     "name": "stdout",
     "output_type": "stream",
     "text": [
      "4.2\n",
      "float64\n"
     ]
    }
   ],
   "source": [
    "# O- objects ( when u don't know which datatype your array consit)   \n",
    "import numpy as np \n",
    "arr = np.array([2,1,3.2])\n",
    "# here numpy covert all data type into float datatype\n",
    "print(arr[1]+arr[2])\n",
    "print(arr.dtype) # output: object\n",
    " "
   ]
  },
  {
   "cell_type": "code",
   "execution_count": 3,
   "id": "53c25f79",
   "metadata": {},
   "outputs": [
    {
     "name": "stdout",
     "output_type": "stream",
     "text": [
      "4\n",
      "int32\n"
     ]
    }
   ],
   "source": [
    "# Self created data type\n",
    "\n",
    "# O- objects ( when u don't know which datatype your array consit )   \n",
    "import numpy as np \n",
    "arr = np.array([2,1,3.2],dtype=\"i\")  # here i have used int data type\n",
    "# here numpy covert all data type into float datatype\n",
    "print(arr[1]+arr[2])\n",
    "print(arr.dtype) # output: object\n",
    " "
   ]
  },
  {
   "cell_type": "markdown",
   "id": "e9a42782",
   "metadata": {},
   "source": [
    "NumPy Array Copy vs View"
   ]
  },
  {
   "cell_type": "code",
   "execution_count": null,
   "id": "ca0be04a",
   "metadata": {},
   "outputs": [
    {
     "name": "stdout",
     "output_type": "stream",
     "text": [
      "2.0\n",
      "[1 2 3]\n"
     ]
    }
   ],
   "source": [
    "# View\n",
    "\n",
    "import numpy as np\n",
    "\n",
    "arr = np.array([1,2,3])\n",
    "arr1 = arr.mean()\n",
    "print(arr1)  # Output: [4 2 3]\n",
    "print(arr)  # Output: [4 2 3]"
   ]
  },
  {
   "cell_type": "code",
   "execution_count": null,
   "id": "56d34777",
   "metadata": {},
   "outputs": [
    {
     "name": "stdout",
     "output_type": "stream",
     "text": [
      "['M', 1, 2, 2.3]\n"
     ]
    }
   ],
   "source": [
    "# here w was checkign that list not creating copy it's chagne teh exact list \n",
    "list_ = [\"shubham\",1,2,2.3]\n",
    "list_[0] = \"M\"\n",
    "print(list_)"
   ]
  },
  {
   "cell_type": "code",
   "execution_count": 68,
   "id": "e8537476",
   "metadata": {},
   "outputs": [],
   "source": [
    "list1 = list_"
   ]
  },
  {
   "cell_type": "code",
   "execution_count": 72,
   "id": "8546a7d9",
   "metadata": {},
   "outputs": [
    {
     "name": "stdout",
     "output_type": "stream",
     "text": [
      "['pawan', 1, 2, 2.3]\n",
      "['pawan', 1, 2, 2.3]\n"
     ]
    }
   ],
   "source": [
    "list1[0]= \"pawan\"\n",
    "print(list1)\n",
    "print(list_)"
   ]
  },
  {
   "cell_type": "code",
   "execution_count": null,
   "id": "a1e34efc",
   "metadata": {},
   "outputs": [
    {
     "name": "stdout",
     "output_type": "stream",
     "text": [
      "int64\n",
      "[6465    2    3    4]\n"
     ]
    }
   ],
   "source": [
    "# view \n",
    "import numpy as np \n",
    "arr = np.array([1,2,3,4])\n",
    "x = arr\n",
    "x[0]=6465\n",
    "print(x.dtype)\n",
    "print(x)"
   ]
  },
  {
   "cell_type": "code",
   "execution_count": null,
   "id": "ced40503",
   "metadata": {},
   "outputs": [],
   "source": [
    "# assigment opeartor vs view \n",
    "# if u use = assimgent opetor than u create same object but in view u createing a new object with same data 4\n"
   ]
  },
  {
   "cell_type": "code",
   "execution_count": null,
   "id": "22345ad7",
   "metadata": {},
   "outputs": [
    {
     "name": "stdout",
     "output_type": "stream",
     "text": [
      "None\n",
      "[1 2 3 4]\n"
     ]
    }
   ],
   "source": [
    "# view \n",
    "import numpy as np \n",
    "arr = np.array([1,2,3,4])\n",
    "x = arr.copy()\n",
    "y = arr.view()    # always remember base is here paramerte of arr not any methode( function )\n",
    "print(x.base)\n",
    "print(y.base)"
   ]
  },
  {
   "cell_type": "markdown",
   "id": "d04ecb76",
   "metadata": {},
   "source": [
    "Numpy Shape\n"
   ]
  },
  {
   "cell_type": "code",
   "execution_count": null,
   "id": "2ed760a5",
   "metadata": {},
   "outputs": [
    {
     "name": "stdout",
     "output_type": "stream",
     "text": [
      "(1, 1, 4)\n"
     ]
    }
   ],
   "source": [
    "# x repreent column ,y represnt row and z represent depth\n",
    "# (z,y,x) in this way u will see matrix\n",
    "import numpy as np \n",
    "arr = np.array([[[1,2,3,4]]])\n",
    "print(arr.shape)"
   ]
  },
  {
   "cell_type": "markdown",
   "id": "61b1aef2",
   "metadata": {},
   "source": [
    "Reshaping arrays\n"
   ]
  },
  {
   "cell_type": "code",
   "execution_count": 20,
   "id": "2ca24aa3",
   "metadata": {},
   "outputs": [
    {
     "name": "stdout",
     "output_type": "stream",
     "text": [
      "arr shape (12,)\n",
      "arr dime 1\n",
      "[[ 1  2  3]\n",
      " [ 4  5  6]\n",
      " [ 7  8  9]\n",
      " [10 11 12]]\n",
      "arr dime 2\n",
      "arr shape (4, 3)\n"
     ]
    }
   ],
   "source": [
    "import numpy as np\n",
    "\n",
    "arr = np.array([1, 2, 3, 4, 5, 6, 7, 8, 9, 10, 11, 12])\n",
    "\n",
    "print(\"arr shape\",arr.shape)\n",
    "print(\"arr dime\",arr.ndim)\n",
    "\n",
    "newarr = arr.reshape(4,3)\n",
    "print(newarr)\n",
    "print(\"arr dime\",newarr.ndim)\n",
    "\n",
    "print(\"arr shape\",newarr.shape)\n"
   ]
  },
  {
   "cell_type": "code",
   "execution_count": null,
   "id": "4b9618e6",
   "metadata": {},
   "outputs": [
    {
     "ename": "ValueError",
     "evalue": "cannot reshape array of size 8 into shape (3,3)",
     "output_type": "error",
     "traceback": [
      "\u001b[1;31m---------------------------------------------------------------------------\u001b[0m",
      "\u001b[1;31mValueError\u001b[0m                                Traceback (most recent call last)",
      "Cell \u001b[1;32mIn[21], line 9\u001b[0m\n\u001b[0;32m      5\u001b[0m arr \u001b[38;5;241m=\u001b[39m np\u001b[38;5;241m.\u001b[39marray([\u001b[38;5;241m1\u001b[39m, \u001b[38;5;241m2\u001b[39m, \u001b[38;5;241m3\u001b[39m, \u001b[38;5;241m4\u001b[39m, \u001b[38;5;241m5\u001b[39m, \u001b[38;5;241m6\u001b[39m, \u001b[38;5;241m7\u001b[39m, \u001b[38;5;241m8\u001b[39m])\n\u001b[0;32m      7\u001b[0m \u001b[38;5;66;03m# let's shape this as u can see there is 8 element \u001b[39;00m\n\u001b[0;32m      8\u001b[0m \u001b[38;5;66;03m# reshpae into 3 x 3 matrix 3 rows and 3 column\u001b[39;00m\n\u001b[1;32m----> 9\u001b[0m arr \u001b[38;5;241m=\u001b[39m \u001b[43marr\u001b[49m\u001b[38;5;241;43m.\u001b[39;49m\u001b[43mreshape\u001b[49m\u001b[43m(\u001b[49m\u001b[38;5;241;43m3\u001b[39;49m\u001b[43m,\u001b[49m\u001b[43m \u001b[49m\u001b[38;5;241;43m3\u001b[39;49m\u001b[43m)\u001b[49m\n",
      "\u001b[1;31mValueError\u001b[0m: cannot reshape array of size 8 into shape (3,3)"
     ]
    }
   ],
   "source": [
    "# Can We Reshape Into any Shape?\n",
    "# yes as long as it's in equal in size in all\n",
    "import numpy as np\n",
    "\n",
    "arr = np.array([1, 2, 3, 4, 5, 6, 7, 8])\n",
    "\n",
    "# let's shape this as u can see there is 8 element \n",
    "# reshpae into 3 x 3 matrix 3 rows and 3 column\n",
    "arr = arr.reshape(3, 3)\n",
    "# because we need 9 element to reshape into 3 x 3 matrix\n"
   ]
  },
  {
   "cell_type": "code",
   "execution_count": 25,
   "id": "9e2c60bf",
   "metadata": {},
   "outputs": [
    {
     "name": "stdout",
     "output_type": "stream",
     "text": [
      "[1 2 3 4 5 6 7 8 9]\n"
     ]
    }
   ],
   "source": [
    "# when we reshape the arry then that arry is copy or view \n",
    "import numpy as np\n",
    "\n",
    "arr = np.array([1, 2, 3, 4, 5, 6, 7, 8,9])\n",
    "\n",
    "newarr= arr.reshape(3,3)\n",
    "\n",
    "print(newarr.base)  \n",
    "\n"
   ]
  },
  {
   "cell_type": "code",
   "execution_count": null,
   "id": "c4bf6690",
   "metadata": {},
   "outputs": [
    {
     "data": {
      "text/plain": [
       "array([[1, 2, 3, 4],\n",
       "       [5, 6, 7, 8]])"
      ]
     },
     "execution_count": 31,
     "metadata": {},
     "output_type": "execute_result"
    }
   ],
   "source": [
    "# Unknown Dimension\n",
    "\n",
    "import numpy as np\n",
    "\n",
    "arr = np.array([1, 2, 3, 4, 5, 6, 7, 8])\n",
    "\n",
    "arr.reshape(2,-1) # here two row 4 coloumn\n",
    "\n",
    "\n"
   ]
  },
  {
   "cell_type": "code",
   "execution_count": null,
   "id": "3648a9bd",
   "metadata": {},
   "outputs": [
    {
     "data": {
      "text/plain": [
       "array([[[1, 2, 3, 4],\n",
       "        [5, 6, 7, 8]]])"
      ]
     },
     "execution_count": 32,
     "metadata": {},
     "output_type": "execute_result"
    }
   ],
   "source": [
    "\n",
    "import numpy as np\n",
    "\n",
    "arr = np.array([1, 2, 3, 4, 5, 6, 7, 8])\n",
    "\n",
    "arr.reshape(1,2,-1) # here two row 4 coloumn 1 depth\n",
    "\n"
   ]
  },
  {
   "cell_type": "code",
   "execution_count": null,
   "id": "48122bf9",
   "metadata": {},
   "outputs": [
    {
     "name": "stdout",
     "output_type": "stream",
     "text": [
      "[1 2 3 4 5 6]\n"
     ]
    }
   ],
   "source": [
    "# Flattening the arrays\n",
    "# coverting any dim into 1 D\n",
    "\n",
    "import numpy as np\n",
    "\n",
    "arr = np.array([[1, 2, 3], [4, 5, 6]])\n",
    "\n",
    "newarr = arr.reshape(-1)\n",
    "\n",
    "print(newarr)"
   ]
  },
  {
   "cell_type": "code",
   "execution_count": 35,
   "id": "330ed100",
   "metadata": {},
   "outputs": [
    {
     "name": "stdout",
     "output_type": "stream",
     "text": [
      "1\n",
      "2\n",
      "3\n",
      "4\n",
      "5\n",
      "6\n"
     ]
    }
   ],
   "source": [
    "# Iterating Arrays Using nditer()\n",
    "import numpy as np\n",
    "\n",
    "arr = np.array([[1, 2, 3], [4, 5, 6]])\n",
    "\n",
    "for i in np.nditer(arr):\n",
    "    print(i)"
   ]
  },
  {
   "cell_type": "code",
   "execution_count": null,
   "id": "1cb67408",
   "metadata": {},
   "outputs": [],
   "source": [
    "    # Iterating Array With Different Data Types\n",
    "# what is buffer ?\n",
    "# tem memrory location is called buffer for holding temp data\n",
    "import numpy as np\n",
    "\n",
    "arr = np.array([[1, 2, 3], [4, 5, 6]])\n",
    "\n",
    "# now u want diffeent datatype \n"
   ]
  },
  {
   "cell_type": "code",
   "execution_count": null,
   "id": "d6403114",
   "metadata": {},
   "outputs": [
    {
     "ename": "TypeError",
     "evalue": "Iterator operand or requested dtype holds references, but the NPY_ITER_REFS_OK flag was not enabled",
     "output_type": "error",
     "traceback": [
      "\u001b[1;31m---------------------------------------------------------------------------\u001b[0m",
      "\u001b[1;31mTypeError\u001b[0m                                 Traceback (most recent call last)",
      "Cell \u001b[1;32mIn[44], line 5\u001b[0m\n\u001b[0;32m      1\u001b[0m \u001b[38;5;28;01mimport\u001b[39;00m\u001b[38;5;250m \u001b[39m\u001b[38;5;21;01mnumpy\u001b[39;00m\u001b[38;5;250m \u001b[39m\u001b[38;5;28;01mas\u001b[39;00m\u001b[38;5;250m \u001b[39m\u001b[38;5;21;01mnp\u001b[39;00m\n\u001b[0;32m      3\u001b[0m arr \u001b[38;5;241m=\u001b[39m np\u001b[38;5;241m.\u001b[39marray([[\u001b[38;5;241m1\u001b[39m, \u001b[38;5;241m2\u001b[39m, \u001b[38;5;241m3\u001b[39m], [\u001b[38;5;241m46546464646676165761676467615\u001b[39m, \u001b[38;5;241m5\u001b[39m, \u001b[38;5;241m6\u001b[39m]])\n\u001b[1;32m----> 5\u001b[0m \u001b[38;5;28;01mfor\u001b[39;00m i \u001b[38;5;129;01min\u001b[39;00m \u001b[43mnp\u001b[49m\u001b[38;5;241;43m.\u001b[39;49m\u001b[43mnditer\u001b[49m\u001b[43m(\u001b[49m\u001b[43marr\u001b[49m\u001b[43m,\u001b[49m\u001b[43m \u001b[49m\u001b[43mflags\u001b[49m\u001b[38;5;241;43m=\u001b[39;49m\u001b[43m[\u001b[49m\u001b[38;5;124;43m'\u001b[39;49m\u001b[38;5;124;43mbuffered\u001b[39;49m\u001b[38;5;124;43m'\u001b[39;49m\u001b[43m]\u001b[49m\u001b[43m,\u001b[49m\u001b[43mop_dtypes\u001b[49m\u001b[38;5;241;43m=\u001b[39;49m\u001b[43m[\u001b[49m\u001b[38;5;124;43m'\u001b[39;49m\u001b[38;5;124;43mS\u001b[39;49m\u001b[38;5;124;43m'\u001b[39;49m\u001b[43m]\u001b[49m\u001b[43m)\u001b[49m:\n\u001b[0;32m      6\u001b[0m     \u001b[38;5;28mprint\u001b[39m(i\u001b[38;5;241m.\u001b[39mdtype)\n",
      "\u001b[1;31mTypeError\u001b[0m: Iterator operand or requested dtype holds references, but the NPY_ITER_REFS_OK flag was not enabled"
     ]
    }
   ],
   "source": [
    "import numpy as np\n",
    "\n",
    "arr = np.array([[1, 2, 3], [46546464646676165761676467615, 5, 6]])  # so this numnber is to large to interate \n",
    "\n",
    "for i in np.nditer(arr, flags=['buffered'],op_dtypes=['S']):\n",
    "    print(i.dtype)"
   ]
  },
  {
   "cell_type": "code",
   "execution_count": 47,
   "id": "1afd5823",
   "metadata": {},
   "outputs": [
    {
     "name": "stdout",
     "output_type": "stream",
     "text": [
      "1\n",
      "3\n",
      "2\n",
      "6\n"
     ]
    }
   ],
   "source": [
    "# Iterating With Different Step Size\n",
    "\n",
    "import numpy as np\n",
    "\n",
    "arr = np.array([[1, 2, 3], [2, 5, 6]])  # so this numnber is to large to interate \n",
    "\n",
    "for i in np.nditer(arr[:,::2]):\n",
    "    print(i)"
   ]
  },
  {
   "cell_type": "code",
   "execution_count": 52,
   "id": "7f179c18",
   "metadata": {},
   "outputs": [
    {
     "name": "stdout",
     "output_type": "stream",
     "text": [
      "(0, 0)\n",
      "(0, 1)\n",
      "(0, 2)\n",
      "(1, 0)\n",
      "(1, 1)\n",
      "(1, 2)\n"
     ]
    }
   ],
   "source": [
    "# Enumerated Iteration Using ndenumerate()\n",
    "# when u want correnpoding index with \n",
    "import numpy as np\n",
    "\n",
    "arr = np.array([[1, 2, 3], [2, 5, 6]])  # \n",
    "\n",
    "for i in np.ndenumerate(arr):\n",
    "    print(i[0])\n",
    " "
   ]
  },
  {
   "cell_type": "code",
   "execution_count": 53,
   "id": "22b1d141",
   "metadata": {},
   "outputs": [
    {
     "name": "stdout",
     "output_type": "stream",
     "text": [
      "(0, 0, 0)\n",
      "(0, 0, 1)\n",
      "(0, 0, 2)\n",
      "(0, 1, 0)\n",
      "(0, 1, 1)\n",
      "(0, 1, 2)\n"
     ]
    }
   ],
   "source": [
    "# Enumerated Iteration Using ndenumerate()\n",
    "# when u want correnpoding index with \n",
    "import numpy as np\n",
    "\n",
    "arr = np.array([[[1, 2, 3], [2, 5, 6]]])  # \n",
    "\n",
    "for i in np.ndenumerate(arr):\n",
    "    print(i[0])"
   ]
  },
  {
   "cell_type": "markdown",
   "id": "5301d143",
   "metadata": {},
   "source": [
    "NumPy Joining Array\n"
   ]
  },
  {
   "cell_type": "code",
   "execution_count": 6,
   "id": "f92a08c6",
   "metadata": {},
   "outputs": [
    {
     "data": {
      "text/plain": [
       "array([5, 7, 9])"
      ]
     },
     "execution_count": 6,
     "metadata": {},
     "output_type": "execute_result"
    }
   ],
   "source": [
    "# Joining NumPy Arrays\n",
    "# join == contactinate \n",
    "import numpy as np\n",
    "\n",
    "arr1 = np.array([1, 2, 3])\n",
    "\n",
    "arr2 = np.array([4, 5, 6])\n",
    "\n",
    "arr1 + arr2\n",
    "\n",
    "# like this not worked as we doing in list"
   ]
  },
  {
   "cell_type": "code",
   "execution_count": 3,
   "id": "db7d1a16",
   "metadata": {},
   "outputs": [
    {
     "data": {
      "text/plain": [
       "[1, 2, 3, 4, 1, 6]"
      ]
     },
     "execution_count": 3,
     "metadata": {},
     "output_type": "execute_result"
    }
   ],
   "source": [
    "l1= [1, 2, 3]\n",
    "\n",
    "l2 =[4, 1, 6]\n",
    "\n",
    "l1 + l2"
   ]
  },
  {
   "cell_type": "code",
   "execution_count": 36,
   "id": "6b61b19b",
   "metadata": {},
   "outputs": [
    {
     "name": "stdout",
     "output_type": "stream",
     "text": [
      "[1 2 3 4 5 6]\n"
     ]
    }
   ],
   "source": [
    "import numpy as np\n",
    "\n",
    "arr1 = np.array([1, 2, 3])\n",
    "\n",
    "arr2 = np.array([4, 5, 6])\n",
    "\n",
    "arr = np.concatenate([arr1,arr2],axis=0)\n",
    "\n",
    "print(arr)"
   ]
  },
  {
   "cell_type": "code",
   "execution_count": 37,
   "id": "7d186d68",
   "metadata": {},
   "outputs": [
    {
     "ename": "AxisError",
     "evalue": "axis 1 is out of bounds for array of dimension 1",
     "output_type": "error",
     "traceback": [
      "\u001b[1;31m---------------------------------------------------------------------------\u001b[0m",
      "\u001b[1;31mAxisError\u001b[0m                                 Traceback (most recent call last)",
      "Cell \u001b[1;32mIn[37], line 7\u001b[0m\n\u001b[0;32m      3\u001b[0m arr1 \u001b[38;5;241m=\u001b[39m np\u001b[38;5;241m.\u001b[39marray([\u001b[38;5;241m1\u001b[39m, \u001b[38;5;241m2\u001b[39m, \u001b[38;5;241m3\u001b[39m])\n\u001b[0;32m      5\u001b[0m arr2 \u001b[38;5;241m=\u001b[39m np\u001b[38;5;241m.\u001b[39marray([\u001b[38;5;241m4\u001b[39m, \u001b[38;5;241m5\u001b[39m, \u001b[38;5;241m6\u001b[39m])\n\u001b[1;32m----> 7\u001b[0m arr \u001b[38;5;241m=\u001b[39m \u001b[43mnp\u001b[49m\u001b[38;5;241;43m.\u001b[39;49m\u001b[43mconcatenate\u001b[49m\u001b[43m(\u001b[49m\u001b[43m[\u001b[49m\u001b[43marr1\u001b[49m\u001b[43m,\u001b[49m\u001b[43marr2\u001b[49m\u001b[43m]\u001b[49m\u001b[43m,\u001b[49m\u001b[43maxis\u001b[49m\u001b[38;5;241;43m=\u001b[39;49m\u001b[38;5;241;43m1\u001b[39;49m\u001b[43m)\u001b[49m\n\u001b[0;32m      9\u001b[0m \u001b[38;5;28mprint\u001b[39m(arr)\n",
      "\u001b[1;31mAxisError\u001b[0m: axis 1 is out of bounds for array of dimension 1"
     ]
    }
   ],
   "source": [
    "import numpy as np\n",
    "\n",
    "arr1 = np.array([1, 2, 3])\n",
    "\n",
    "arr2 = np.array([4, 5, 6])\n",
    "\n",
    "arr = np.concatenate([arr1,arr2],axis=1)\n",
    "\n",
    "print(arr)"
   ]
  },
  {
   "cell_type": "code",
   "execution_count": 39,
   "id": "b8be83ff",
   "metadata": {},
   "outputs": [
    {
     "name": "stdout",
     "output_type": "stream",
     "text": [
      "[[1 2 3]\n",
      " [4 5 6]]\n"
     ]
    }
   ],
   "source": [
    "import numpy as np\n",
    "\n",
    "arr1 = np.array([[1, 2, 3]])\n",
    "\n",
    "arr2 = np.array([[4, 5, 6]])\n",
    "\n",
    "arr = np.concatenate([arr1,arr2],axis=0)\n",
    "\n",
    "print(arr)"
   ]
  },
  {
   "cell_type": "code",
   "execution_count": 40,
   "id": "05a15568",
   "metadata": {},
   "outputs": [
    {
     "name": "stdout",
     "output_type": "stream",
     "text": [
      "[[[1 2 3]]\n",
      "\n",
      " [[4 5 6]]]\n"
     ]
    }
   ],
   "source": [
    "import numpy as np\n",
    "\n",
    "arr1 = np.array([[1, 2, 3]])\n",
    "\n",
    "arr2 = np.array([[4, 5, 6]])\n",
    "\n",
    "arr = np.stack([arr1,arr2],axis=0)\n",
    "\n",
    "print(arr)"
   ]
  },
  {
   "cell_type": "code",
   "execution_count": 41,
   "id": "df3d1811",
   "metadata": {},
   "outputs": [
    {
     "name": "stdout",
     "output_type": "stream",
     "text": [
      "[[[1 2 3]\n",
      "  [4 5 6]]]\n"
     ]
    }
   ],
   "source": [
    "import numpy as np\n",
    "\n",
    "arr1 = np.array([[1, 2, 3]])\n",
    "\n",
    "arr2 = np.array([[4, 5, 6]])\n",
    "\n",
    "arr = np.stack([arr1,arr2],axis=1)\n",
    "\n",
    "print(arr)"
   ]
  },
  {
   "cell_type": "code",
   "execution_count": null,
   "id": "25f1b248",
   "metadata": {},
   "outputs": [
    {
     "name": "stdout",
     "output_type": "stream",
     "text": [
      "[[1 2 3]\n",
      " [4 5 6]]\n"
     ]
    }
   ],
   "source": [
    "# Joining Using Stack Function \n",
    "\n",
    "# why we r using stack function :\n",
    "# => Contactinate joined array in same axis but stack but stack  add additional axis to join it.\n",
    " \n",
    "import numpy as np\n",
    "\n",
    "arr1 = np.array([1, 2, 3])\n",
    "\n",
    "arr2 = np.array([4, 5, 6])\n",
    "\n",
    "arr = np.stack([arr1,arr2],axis=0)  # axis = 0 means join along rows\n",
    "\n",
    "print(arr)"
   ]
  },
  {
   "cell_type": "code",
   "execution_count": 16,
   "id": "b7ce32cb",
   "metadata": {},
   "outputs": [
    {
     "name": "stdout",
     "output_type": "stream",
     "text": [
      "[[1 4]\n",
      " [2 5]\n",
      " [3 6]]\n"
     ]
    }
   ],
   "source": [
    "\n",
    "import numpy as np\n",
    "\n",
    "arr1 = np.array([1, 2, 3])\n",
    "\n",
    "arr2 = np.array([4, 5, 6])\n",
    "\n",
    "arr = np.stack([arr1,arr2],axis=1)  # axis = 1 means join along columns\n",
    "print(arr)"
   ]
  },
  {
   "cell_type": "code",
   "execution_count": 20,
   "id": "5628c0c0",
   "metadata": {},
   "outputs": [
    {
     "name": "stdout",
     "output_type": "stream",
     "text": [
      "[1 2 3 4 5 6]\n"
     ]
    }
   ],
   "source": [
    "# h stack and v stack\n",
    "\n",
    "import numpy as np\n",
    "\n",
    "arr1 = np.array([1, 2, 3])\n",
    "\n",
    "arr2 = np.array([4, 5, 6])\n",
    "\n",
    "\n",
    "arr = np.hstack([arr1,arr2])\n",
    "print(arr)\n",
    "\n",
    "\n"
   ]
  },
  {
   "cell_type": "code",
   "execution_count": 26,
   "id": "6b69d8fd",
   "metadata": {},
   "outputs": [
    {
     "name": "stdout",
     "output_type": "stream",
     "text": [
      "(2, 6)\n",
      "[['1' '2' '3' 'a' 'b' 'c']\n",
      " ['4' '5' '6' 'd' 'e' 'f']]\n"
     ]
    }
   ],
   "source": [
    "import numpy as np\n",
    "\n",
    "arr1 = np.array([[1, 2, 3],[4,5,6]])\n",
    "\n",
    "arr2 = np.array([[\"a\",\"b\",\"c\"],[\"d\",\"e\",\"f\"]])\n",
    "\n",
    "arr = np.hstack([arr1,arr2])\n",
    "print(arr.shape)\n",
    "print(arr)"
   ]
  },
  {
   "cell_type": "code",
   "execution_count": 34,
   "id": "40442ec8",
   "metadata": {},
   "outputs": [
    {
     "name": "stdout",
     "output_type": "stream",
     "text": [
      "[['1' '2' '3' 'a' 'b' 'c']\n",
      " ['4' '5' '6' 'd' 'e' 'f']]\n"
     ]
    }
   ],
   "source": [
    "list_ = [['1', '2' ,'3' ,'a' ,'b' ,'c'],\n",
    "        ['4' ,'5' ,'6', 'd', 'e' ,'f']]\n",
    "\n",
    "arr = np.array(list_)\n",
    "print(arr)"
   ]
  },
  {
   "cell_type": "code",
   "execution_count": 19,
   "id": "f1ea4399",
   "metadata": {},
   "outputs": [
    {
     "name": "stdout",
     "output_type": "stream",
     "text": [
      "[[1 2 3]\n",
      " [4 5 6]]\n"
     ]
    }
   ],
   "source": [
    "import numpy as np\n",
    "\n",
    "arr1 = np.array([1, 2, 3])\n",
    "\n",
    "arr2 = np.array([4, 5, 6])\n",
    "\n",
    "arr = np.vstack([arr1,arr2])\n",
    "print(arr)"
   ]
  },
  {
   "cell_type": "code",
   "execution_count": 21,
   "id": "5e647b81",
   "metadata": {},
   "outputs": [
    {
     "name": "stdout",
     "output_type": "stream",
     "text": [
      "[[[1 4]\n",
      "  [2 5]\n",
      "  [3 6]]]\n"
     ]
    }
   ],
   "source": [
    "import numpy as np\n",
    "\n",
    "arr1 = np.array([1, 2, 3])\n",
    "\n",
    "arr2 = np.array([4, 5, 6])\n",
    "\n",
    "arr = np.dstack((arr1, arr2))\n",
    "\n",
    "print(arr)"
   ]
  },
  {
   "cell_type": "code",
   "execution_count": 43,
   "id": "e88d879b",
   "metadata": {},
   "outputs": [
    {
     "name": "stdout",
     "output_type": "stream",
     "text": [
      "[array([1, 2]), array([3])]\n"
     ]
    }
   ],
   "source": [
    "# Spliting array \n",
    "\n",
    "# 1 D array \n",
    "import numpy as np\n",
    "\n",
    "arr1 = np.array([1, 2, 3])\n",
    "\n",
    "arr = np.array_split(arr1,2)\n",
    "\n",
    "print(arr)"
   ]
  },
  {
   "cell_type": "code",
   "execution_count": 45,
   "id": "a6bfa052",
   "metadata": {},
   "outputs": [
    {
     "name": "stdout",
     "output_type": "stream",
     "text": [
      "[array([[1, 2, 3]]), array([[4, 5, 6]])]\n"
     ]
    }
   ],
   "source": [
    "# Splitting 2-D Arrays\n",
    "\n",
    "import numpy as np\n",
    "\n",
    "arr1 = np.array([[1, 2, 3],[4,5,6]])\n",
    "\n",
    "arr = np.array_split(arr1,2)\n",
    "\n",
    "print(arr)"
   ]
  },
  {
   "cell_type": "code",
   "execution_count": 51,
   "id": "d3a247c6",
   "metadata": {},
   "outputs": [
    {
     "name": "stdout",
     "output_type": "stream",
     "text": [
      "[array([1]), array([2]), array([3])]\n"
     ]
    }
   ],
   "source": [
    "# you can say that on which axis you want to split array \n",
    "\n",
    "  # axis = 1 means split  along columns\n",
    "  \n",
    "import numpy as np\n",
    "\n",
    "\n",
    "arr1 = np.array([1, 2, 3])\n",
    "\n",
    "\n",
    "arr = np.array_split(arr1,3,axis=0)\n",
    "\n",
    "print(arr)"
   ]
  },
  {
   "cell_type": "code",
   "execution_count": 58,
   "id": "31131062",
   "metadata": {},
   "outputs": [
    {
     "ename": "IndexError",
     "evalue": "tuple index out of range",
     "output_type": "error",
     "traceback": [
      "\u001b[1;31m---------------------------------------------------------------------------\u001b[0m",
      "\u001b[1;31mIndexError\u001b[0m                                Traceback (most recent call last)",
      "Cell \u001b[1;32mIn[58], line 7\u001b[0m\n\u001b[0;32m      1\u001b[0m \u001b[38;5;28;01mimport\u001b[39;00m\u001b[38;5;250m \u001b[39m\u001b[38;5;21;01mnumpy\u001b[39;00m\u001b[38;5;250m \u001b[39m\u001b[38;5;28;01mas\u001b[39;00m\u001b[38;5;250m \u001b[39m\u001b[38;5;21;01mnp\u001b[39;00m\n\u001b[0;32m      4\u001b[0m arr1 \u001b[38;5;241m=\u001b[39m np\u001b[38;5;241m.\u001b[39marray([\u001b[38;5;241m1\u001b[39m, \u001b[38;5;241m2\u001b[39m, \u001b[38;5;241m3\u001b[39m])\n\u001b[1;32m----> 7\u001b[0m arr \u001b[38;5;241m=\u001b[39m \u001b[43mnp\u001b[49m\u001b[38;5;241;43m.\u001b[39;49m\u001b[43marray_split\u001b[49m\u001b[43m(\u001b[49m\u001b[43marr1\u001b[49m\u001b[43m,\u001b[49m\u001b[38;5;241;43m3\u001b[39;49m\u001b[43m,\u001b[49m\u001b[43maxis\u001b[49m\u001b[38;5;241;43m=\u001b[39;49m\u001b[38;5;241;43m1\u001b[39;49m\u001b[43m)\u001b[49m\n\u001b[0;32m      8\u001b[0m \u001b[38;5;28mprint\u001b[39m(arr)\n",
      "File \u001b[1;32m~\\AppData\\Roaming\\Python\\Python310\\site-packages\\numpy\\lib\\_shape_base_impl.py:771\u001b[0m, in \u001b[0;36marray_split\u001b[1;34m(ary, indices_or_sections, axis)\u001b[0m\n\u001b[0;32m    744\u001b[0m \u001b[38;5;250m\u001b[39m\u001b[38;5;124;03m\"\"\"\u001b[39;00m\n\u001b[0;32m    745\u001b[0m \u001b[38;5;124;03mSplit an array into multiple sub-arrays.\u001b[39;00m\n\u001b[0;32m    746\u001b[0m \n\u001b[1;32m   (...)\u001b[0m\n\u001b[0;32m    768\u001b[0m \n\u001b[0;32m    769\u001b[0m \u001b[38;5;124;03m\"\"\"\u001b[39;00m\n\u001b[0;32m    770\u001b[0m \u001b[38;5;28;01mtry\u001b[39;00m:\n\u001b[1;32m--> 771\u001b[0m     Ntotal \u001b[38;5;241m=\u001b[39m \u001b[43mary\u001b[49m\u001b[38;5;241;43m.\u001b[39;49m\u001b[43mshape\u001b[49m\u001b[43m[\u001b[49m\u001b[43maxis\u001b[49m\u001b[43m]\u001b[49m\n\u001b[0;32m    772\u001b[0m \u001b[38;5;28;01mexcept\u001b[39;00m \u001b[38;5;167;01mAttributeError\u001b[39;00m:\n\u001b[0;32m    773\u001b[0m     Ntotal \u001b[38;5;241m=\u001b[39m \u001b[38;5;28mlen\u001b[39m(ary)\n",
      "\u001b[1;31mIndexError\u001b[0m: tuple index out of range"
     ]
    }
   ],
   "source": [
    "import numpy as np\n",
    "\n",
    "\n",
    "arr1 = np.array([1, 2, 3])\n",
    "\n",
    "\n",
    "arr = np.array_split(arr1,3,axis=1)\n",
    "print(arr)"
   ]
  },
  {
   "cell_type": "code",
   "execution_count": 59,
   "id": "a6b0138d",
   "metadata": {},
   "outputs": [
    {
     "name": "stdout",
     "output_type": "stream",
     "text": [
      "(2, 3)\n",
      "[array([[1],\n",
      "       [4]]), array([[2],\n",
      "       [5]]), array([[3],\n",
      "       [6]])]\n"
     ]
    }
   ],
   "source": [
    "arr2d = np.array([[1, 2, 3],\n",
    "                [4, 5, 6]])\n",
    "print(arr2d.shape)  # (1, 3)\n",
    "\n",
    "split = np.array_split(arr2d, 3, axis=1)\n",
    "print(split)\n"
   ]
  },
  {
   "cell_type": "code",
   "execution_count": 55,
   "id": "9e169a43",
   "metadata": {},
   "outputs": [
    {
     "name": "stdout",
     "output_type": "stream",
     "text": [
      "[[1]] [[2]]\n"
     ]
    }
   ],
   "source": [
    "# you can say that on which axis you want to split array \n",
    "\n",
    "  # axis = 1 means split  along columns\n",
    "  \n",
    "import numpy as np\n",
    "\n",
    "\n",
    "arr1 = np.array([[1, 2, 3]])\n",
    "\n",
    "\n",
    "arr = np.array_split(arr1,3,axis=1)\n",
    "\n",
    "print(arr[0],arr[1])"
   ]
  },
  {
   "cell_type": "code",
   "execution_count": 57,
   "id": "27e38fb5",
   "metadata": {},
   "outputs": [
    {
     "name": "stdout",
     "output_type": "stream",
     "text": [
      "[[ 1]\n",
      " [ 4]\n",
      " [ 7]\n",
      " [10]\n",
      " [13]\n",
      " [16]]\n"
     ]
    }
   ],
   "source": [
    "import numpy as np\n",
    "\n",
    "arr = np.array([[1, 2, 3], [4, 5, 6], [7, 8, 9], [10, 11, 12], [13, 14, 15], [16, 17, 18]])\n",
    "\n",
    "newarr = np.array_split(arr, 3, axis=1)\n",
    "\n",
    "print(newarr[0])"
   ]
  },
  {
   "cell_type": "code",
   "execution_count": null,
   "id": "83888b13",
   "metadata": {},
   "outputs": [
    {
     "name": "stdout",
     "output_type": "stream",
     "text": [
      "[array([[1, 2]]), array([[3, 4]])]\n"
     ]
    }
   ],
   "source": [
    "import numpy as np\n",
    "\n",
    "arr1 = np.array([[1,2,3,4]])\n",
    "\n",
    "arr = np.split(arr1,2,axis=1)\n",
    "print(arr)"
   ]
  },
  {
   "cell_type": "markdown",
   "id": "7c2d5f62",
   "metadata": {},
   "source": [
    "clearing every concept of stacking , spliiting after chaning axes "
   ]
  },
  {
   "cell_type": "code",
   "execution_count": null,
   "id": "4560ada6",
   "metadata": {},
   "outputs": [
    {
     "name": "stdout",
     "output_type": "stream",
     "text": [
      "[[1 2 3]\n",
      " [4 5 6]]\n"
     ]
    }
   ],
   "source": [
    "import numpy as np\n",
    "\n",
    "# 1 D \n",
    "# stacking \n",
    "\n",
    "arr1 = np.array([1,2,3])\n",
    "\n",
    "arr2 = np.array([4,5,6])\n",
    "\n",
    "# stacking create a new dim becuase it's create a new axis\n",
    "# axis =0 means : along column\n",
    "# axis = 1 means: along rows\n",
    "\n",
    "\n",
    "# so when i say axis = 0 then my mean to say that : stack alogn vertically which will create row type data\n",
    "\n",
    "# when  i say x =1 then stack along horizontally which will crate column type data\n",
    "\n",
    "arr = np.stack([arr1,arr2],axis=0)\n",
    "\n",
    "print(arr)\n",
    "\n",
    "# output: [[1,2,3][4,5,6]]\n",
    "\n",
    "# because it's creating a nex axis y and contactinate it \n",
    "\n",
    "\n",
    "\n"
   ]
  },
  {
   "cell_type": "code",
   "execution_count": null,
   "id": "55af08af",
   "metadata": {},
   "outputs": [
    {
     "name": "stdout",
     "output_type": "stream",
     "text": [
      "[[1 4]\n",
      " [2 5]\n",
      " [3 6]]\n"
     ]
    }
   ],
   "source": [
    "# when we say stac along horizontally we say axis = 1\n",
    "arr1 = np.array([1,2,3])\n",
    "\n",
    "arr2 = np.array([4,5,6])\n",
    "\n",
    "arr = np.stack([arr1,arr2],axis=1)\n",
    "print(arr) # output shape (3,2)  # 3 rows and 2 column"
   ]
  },
  {
   "cell_type": "code",
   "execution_count": 13,
   "id": "0102f895",
   "metadata": {},
   "outputs": [
    {
     "name": "stdout",
     "output_type": "stream",
     "text": [
      "[[1 2 3]\n",
      " [4 5 6]]\n",
      "[1 2 3 4 5 6]\n"
     ]
    }
   ],
   "source": [
    "arr1 = np.array([1,2,3])\n",
    "\n",
    "arr2 = np.array([4,5,6])\n",
    "\n",
    "arr = np.vstack([arr1,arr2])\n",
    "print(arr) \n",
    "arr = np.hstack([arr1,arr2])\n",
    "print(arr) "
   ]
  },
  {
   "cell_type": "code",
   "execution_count": null,
   "id": "2d80efc5",
   "metadata": {},
   "outputs": [
    {
     "name": "stdout",
     "output_type": "stream",
     "text": [
      "[[85 90 78]\n",
      " [88 92 80]]\n",
      "85.5\n",
      "[86.5 91.  79. ]\n"
     ]
    }
   ],
   "source": [
    "# Example\n",
    "# Student Exam Scores\n",
    "# let's take 3 students took 2 different test and their score is like\n",
    "#[85, 90, 78]  <- test 1\n",
    "#[88, 92, 80]  <- test 2\n",
    "\n",
    "\n",
    "# perfomance \n",
    "# 1. calculate the average score of each student\n",
    "\n",
    "import numpy as np\n",
    "\n",
    "test1_score = np.array([85, 90, 78])\n",
    "test2_score = np.array([88, 92, 80])\n",
    "\n",
    "\n",
    "arr = np.stack([test1_score,test2_score],axis=0)\n",
    "\n",
    "avg_score = arr.mean()\n",
    "\n",
    "np_avg_score = np.average(arr,axis=0) # avg score of each studetn in test 1 and test 2 \n",
    "# \n",
    "print(arr)\n",
    "print(avg_score)\n",
    "print(np_avg_score)\n"
   ]
  },
  {
   "cell_type": "markdown",
   "id": "aa9fcec8",
   "metadata": {},
   "source": [
    "Searching an array"
   ]
  },
  {
   "cell_type": "code",
   "execution_count": 7,
   "id": "bc0848f1",
   "metadata": {},
   "outputs": [
    {
     "name": "stdout",
     "output_type": "stream",
     "text": [
      "(array([3, 5, 6]),)\n"
     ]
    }
   ],
   "source": [
    "import numpy as np\n",
    "\n",
    "arr = np.array([1, 2, 3, 4, 5, 4, 4])\n",
    "\n",
    "\n",
    "x = np.where(arr==4)  # value four present at index 3, 5, 6\n",
    "print(x)"
   ]
  },
  {
   "cell_type": "code",
   "execution_count": null,
   "id": "b0d396db",
   "metadata": {},
   "outputs": [
    {
     "name": "stdout",
     "output_type": "stream",
     "text": [
      "(array([1, 3, 5, 6]),)\n"
     ]
    }
   ],
   "source": [
    "# opeation finding \n",
    "import numpy as np\n",
    "\n",
    "arr = np.array([1, 2, 3, 4, 5, 4, 4])\n",
    "\n",
    "x = np.where(arr%2 == 0) # this will give us the elements index which is even\n",
    "\n",
    "print(x)  # this will\n"
   ]
  },
  {
   "cell_type": "markdown",
   "id": "578614ea",
   "metadata": {},
   "source": [
    "Search Sorted\n"
   ]
  },
  {
   "cell_type": "code",
   "execution_count": 19,
   "id": "1e59fcdb",
   "metadata": {},
   "outputs": [
    {
     "name": "stdout",
     "output_type": "stream",
     "text": [
      "1\n"
     ]
    }
   ],
   "source": [
    "# What is binary serach:\n",
    "# it's search value by making every time list half.\n",
    "\n",
    "\n",
    "# Search Sorted will return u index from the sorted list where u place new element the still to be sorted\n",
    "\n",
    "\n",
    "import numpy as np\n",
    "\n",
    "\n",
    "arr = np.array([6, 7, 8, 9])\n",
    "\n",
    "x = np.searchsorted(arr,7)\n",
    "\n",
    "print(x)"
   ]
  },
  {
   "cell_type": "code",
   "execution_count": null,
   "id": "5cfaf56b",
   "metadata": {},
   "outputs": [
    {
     "name": "stdout",
     "output_type": "stream",
     "text": [
      "2\n"
     ]
    }
   ],
   "source": [
    "\n",
    "# by defult left value return but u can change right \n",
    "import numpy as np\n",
    "\n",
    "arr = np.array([6, 7, 8, 9])\n",
    "\n",
    "x = np.searchsorted(arr, 7, side='right')\n",
    "\n",
    "print(x)"
   ]
  },
  {
   "cell_type": "code",
   "execution_count": 23,
   "id": "6efe0e04",
   "metadata": {},
   "outputs": [
    {
     "name": "stdout",
     "output_type": "stream",
     "text": [
      "[1 2 2 4]\n"
     ]
    }
   ],
   "source": [
    "# searching multiple value\n",
    "\n",
    "import numpy as np\n",
    "\n",
    "arr = np.array([1, 3, 5, 7])\n",
    "\n",
    "x=np.searchsorted(arr,[3,4,5,8])\n",
    "\n",
    "print(x)"
   ]
  },
  {
   "cell_type": "code",
   "execution_count": 26,
   "id": "cf59123c",
   "metadata": {},
   "outputs": [
    {
     "name": "stdout",
     "output_type": "stream",
     "text": [
      "[1 3 7 8]\n"
     ]
    }
   ],
   "source": [
    "# numpy sorting \n",
    "\n",
    "\n",
    "import numpy as np\n",
    "\n",
    "arr = np.array([1, 3, 8, 7])\n",
    "\n",
    "x = np.sort(arr)\n",
    "\n",
    "print(x)"
   ]
  },
  {
   "cell_type": "code",
   "execution_count": null,
   "id": "02f39342",
   "metadata": {},
   "outputs": [
    {
     "name": "stdout",
     "output_type": "stream",
     "text": [
      "[[4 6 8]\n",
      " [1 3 5]]\n"
     ]
    }
   ],
   "source": [
    "#Sorting a 2-D Array\n",
    "\n",
    "\n",
    "\n",
    "import numpy as np \n",
    "\n",
    "arr = np.array([[4,8,6],[1,5,3]])\n",
    "\n",
    "x = np.sort(arr)\n",
    "\n",
    "print(x) # so it's sort both array\n"
   ]
  },
  {
   "cell_type": "markdown",
   "id": "69044696",
   "metadata": {},
   "source": [
    "NumPy Filter Array\n"
   ]
  },
  {
   "cell_type": "code",
   "execution_count": null,
   "id": "f4c0e9bb",
   "metadata": {},
   "outputs": [
    {
     "name": "stdout",
     "output_type": "stream",
     "text": [
      "[False False  True  True  True]\n",
      "[30 40 50]\n"
     ]
    }
   ],
   "source": [
    "# filtering array: measn fitler data which meets condition \n",
    "\n",
    "import numpy as np\n",
    "\n",
    "arr = np.array([10, 20, 30, 40, 50])\n",
    "\n",
    "\n",
    "condition = arr > 23\n",
    "print(condition) #[False False  True  True  True]\n",
    "\n",
    "x = arr[condition] # [30 40 50]\n",
    "\n",
    "print(x)"
   ]
  },
  {
   "cell_type": "code",
   "execution_count": 38,
   "id": "212a9708",
   "metadata": {},
   "outputs": [
    {
     "name": "stdout",
     "output_type": "stream",
     "text": [
      "[[False False  True  True  True]\n",
      " [ True  True  True  True  True]]\n",
      "[  30   40   50   34  343 3534  343  232]\n"
     ]
    }
   ],
   "source": [
    "import numpy as np\n",
    "\n",
    "arr = np.array([[10, 20, 30, 40, 50],[34,343,3534,343,232]])\n",
    "\n",
    "\n",
    "condition = arr > 23\n",
    "print(condition) #[False False  True  True  True]\n",
    "\n",
    "x = arr[condition] # [30 40 50]\n",
    "\n",
    "print(x)"
   ]
  },
  {
   "cell_type": "markdown",
   "id": "9b001547",
   "metadata": {},
   "source": []
  }
 ],
 "metadata": {
  "kernelspec": {
   "display_name": "Python 3",
   "language": "python",
   "name": "python3"
  },
  "language_info": {
   "codemirror_mode": {
    "name": "ipython",
    "version": 3
   },
   "file_extension": ".py",
   "mimetype": "text/x-python",
   "name": "python",
   "nbconvert_exporter": "python",
   "pygments_lexer": "ipython3",
   "version": "3.10.6"
  }
 },
 "nbformat": 4,
 "nbformat_minor": 5
}
